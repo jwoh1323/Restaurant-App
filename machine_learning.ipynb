{
 "cells": [
  {
   "cell_type": "code",
   "execution_count": 75,
   "metadata": {},
   "outputs": [],
   "source": [
    "import numpy as np  \n",
    "import matplotlib.pyplot as plt  \n",
    "import pandas as pd  \n",
    "from apyori import apriori"
   ]
  },
  {
   "cell_type": "code",
   "execution_count": 82,
   "metadata": {},
   "outputs": [
    {
     "data": {
      "text/html": [
       "<div>\n",
       "<style scoped>\n",
       "    .dataframe tbody tr th:only-of-type {\n",
       "        vertical-align: middle;\n",
       "    }\n",
       "\n",
       "    .dataframe tbody tr th {\n",
       "        vertical-align: top;\n",
       "    }\n",
       "\n",
       "    .dataframe thead th {\n",
       "        text-align: right;\n",
       "    }\n",
       "</style>\n",
       "<table border=\"1\" class=\"dataframe\">\n",
       "  <thead>\n",
       "    <tr style=\"text-align: right;\">\n",
       "      <th></th>\n",
       "      <th>transanction_id</th>\n",
       "      <th>food_id</th>\n",
       "      <th>food_name</th>\n",
       "      <th>quanlity</th>\n",
       "      <th>order_time</th>\n",
       "    </tr>\n",
       "  </thead>\n",
       "  <tbody>\n",
       "    <tr>\n",
       "      <th>0</th>\n",
       "      <td>9357</td>\n",
       "      <td>4</td>\n",
       "      <td>Yakitori</td>\n",
       "      <td>1</td>\n",
       "      <td>2019-05-17 19:16:19</td>\n",
       "    </tr>\n",
       "    <tr>\n",
       "      <th>1</th>\n",
       "      <td>9357</td>\n",
       "      <td>5</td>\n",
       "      <td>Spring roll</td>\n",
       "      <td>1</td>\n",
       "      <td>2019-05-17 19:16:19</td>\n",
       "    </tr>\n",
       "  </tbody>\n",
       "</table>\n",
       "</div>"
      ],
      "text/plain": [
       "   transanction_id  food_id    food_name  quanlity           order_time\n",
       "0             9357        4     Yakitori         1  2019-05-17 19:16:19\n",
       "1             9357        5  Spring roll         1  2019-05-17 19:16:19"
      ]
     },
     "execution_count": 82,
     "metadata": {},
     "output_type": "execute_result"
    }
   ],
   "source": [
    "sale = pd.read_csv('data/sale.csv')\n",
    "sale.head(2)"
   ]
  },
  {
   "cell_type": "code",
   "execution_count": 77,
   "metadata": {},
   "outputs": [
    {
     "data": {
      "text/html": [
       "<div>\n",
       "<style scoped>\n",
       "    .dataframe tbody tr th:only-of-type {\n",
       "        vertical-align: middle;\n",
       "    }\n",
       "\n",
       "    .dataframe tbody tr th {\n",
       "        vertical-align: top;\n",
       "    }\n",
       "\n",
       "    .dataframe thead th {\n",
       "        text-align: right;\n",
       "    }\n",
       "</style>\n",
       "<table border=\"1\" class=\"dataframe\">\n",
       "  <thead>\n",
       "    <tr style=\"text-align: right;\">\n",
       "      <th></th>\n",
       "      <th>transanction_id</th>\n",
       "      <th>food_id</th>\n",
       "    </tr>\n",
       "  </thead>\n",
       "  <tbody>\n",
       "    <tr>\n",
       "      <th>0</th>\n",
       "      <td>9357</td>\n",
       "      <td>4</td>\n",
       "    </tr>\n",
       "    <tr>\n",
       "      <th>1</th>\n",
       "      <td>9357</td>\n",
       "      <td>5</td>\n",
       "    </tr>\n",
       "  </tbody>\n",
       "</table>\n",
       "</div>"
      ],
      "text/plain": [
       "   transanction_id  food_id\n",
       "0             9357        4\n",
       "1             9357        5"
      ]
     },
     "execution_count": 77,
     "metadata": {},
     "output_type": "execute_result"
    }
   ],
   "source": [
    "sale = sale[['transanction_id','food_id']]\n",
    "sale.head(2)"
   ]
  },
  {
   "cell_type": "code",
   "execution_count": 78,
   "metadata": {},
   "outputs": [
    {
     "data": {
      "text/plain": [
       "array([  9357,  22148,  27510,  39121,  73198,  81298,  96502, 115628,\n",
       "       118066, 192593, 226653, 237818, 244343, 268328, 278983, 290505,\n",
       "       302635, 341985, 354906, 355455, 360189, 371103, 394601, 410408,\n",
       "       413950, 460596, 461273, 464802, 469234, 500820, 503447, 504293,\n",
       "       512042, 518695, 519884, 612016, 614807, 616568, 623483, 638031,\n",
       "       651685, 667544, 673504, 696198, 697093, 720863, 730925, 770321,\n",
       "       771098, 774916, 777131, 836442, 842002, 850595, 851618, 855324,\n",
       "       859136, 898554, 910979, 923702, 971951])"
      ]
     },
     "execution_count": 78,
     "metadata": {},
     "output_type": "execute_result"
    }
   ],
   "source": [
    "order_ids = sale['transanction_id'].unique()\n",
    "order_ids"
   ]
  },
  {
   "cell_type": "code",
   "execution_count": null,
   "metadata": {},
   "outputs": [],
   "source": []
  },
  {
   "cell_type": "code",
   "execution_count": 79,
   "metadata": {},
   "outputs": [],
   "source": [
    "#processing data\n",
    "df = {}\n",
    "for order_id in order_ids:\n",
    "    items = list(sale[sale['transanction_id'] == order_id]['food_id'])\n",
    "    df[order_id] = items"
   ]
  },
  {
   "cell_type": "code",
   "execution_count": 81,
   "metadata": {},
   "outputs": [
    {
     "data": {
      "text/plain": [
       "{9357: [4, 5, 16, 19, 20],\n",
       " 22148: [14, 15, 20],\n",
       " 27510: [3, 7, 19],\n",
       " 39121: [20],\n",
       " 73198: [2, 5, 11, 16, 20],\n",
       " 81298: [2, 3, 6, 10],\n",
       " 96502: [2],\n",
       " 115628: [3, 4, 7, 11, 17, 19],\n",
       " 118066: [3, 7, 14, 19],\n",
       " 192593: [2],\n",
       " 226653: [2, 8, 20],\n",
       " 237818: [2, 3, 5, 14, 20],\n",
       " 244343: [2, 3, 4, 7, 12, 16, 18],\n",
       " 268328: [3, 4, 8, 13, 14, 18],\n",
       " 278983: [6],\n",
       " 290505: [15, 19],\n",
       " 302635: [2, 12],\n",
       " 341985: [2],\n",
       " 354906: [2, 3, 8, 15, 17, 20],\n",
       " 355455: [2],\n",
       " 360189: [2, 3],\n",
       " 371103: [20],\n",
       " 394601: [2],\n",
       " 410408: [2, 10, 16, 19],\n",
       " 413950: [2],\n",
       " 460596: [2],\n",
       " 461273: [2, 7, 14, 19],\n",
       " 464802: [7, 9, 16, 17, 20],\n",
       " 469234: [2, 6, 7],\n",
       " 500820: [2, 3, 8, 12, 16, 19],\n",
       " 503447: [2, 19],\n",
       " 504293: [3, 4, 5, 7, 8, 11, 13, 19],\n",
       " 512042: [3, 7, 12, 14, 20],\n",
       " 518695: [3, 4, 7, 11, 13, 14, 18],\n",
       " 519884: [2],\n",
       " 612016: [5, 7, 10, 16, 18, 20],\n",
       " 614807: [2, 8],\n",
       " 616568: [2, 14, 16, 20],\n",
       " 623483: [2, 4, 10, 16, 18],\n",
       " 638031: [11, 14, 20],\n",
       " 651685: [3, 14, 18],\n",
       " 667544: [2, 3, 4, 5, 6, 7, 8, 9, 10, 11, 12, 13, 14, 15, 16, 17, 18, 19, 20],\n",
       " 673504: [2, 4, 7, 8, 11],\n",
       " 696198: [2, 8, 14, 16],\n",
       " 697093: [2, 4],\n",
       " 720863: [2, 8, 10, 14, 18, 19, 20],\n",
       " 730925: [2, 3, 4, 7, 11, 13, 14, 19],\n",
       " 770321: [7, 9, 10, 12, 18, 19],\n",
       " 771098: [2, 7, 9, 12, 18],\n",
       " 774916: [3, 4, 8, 9, 13, 17, 19, 20],\n",
       " 777131: [2],\n",
       " 836442: [3],\n",
       " 842002: [2, 3, 18],\n",
       " 850595: [2, 12, 18, 19],\n",
       " 851618: [3, 4, 7, 11, 13, 16, 18, 19],\n",
       " 855324: [4, 5, 7, 11, 13, 19],\n",
       " 859136: [3, 7, 14, 19],\n",
       " 898554: [4],\n",
       " 910979: [2, 7, 18],\n",
       " 923702: [3, 14, 20],\n",
       " 971951: [4, 7, 8, 13, 16, 19]}"
      ]
     },
     "execution_count": 81,
     "metadata": {},
     "output_type": "execute_result"
    }
   ],
   "source": [
    "df"
   ]
  },
  {
   "cell_type": "code",
   "execution_count": null,
   "metadata": {},
   "outputs": [],
   "source": []
  },
  {
   "cell_type": "code",
   "execution_count": null,
   "metadata": {},
   "outputs": [],
   "source": []
  }
 ],
 "metadata": {
  "kernelspec": {
   "display_name": "Python 3",
   "language": "python",
   "name": "python3"
  },
  "language_info": {
   "codemirror_mode": {
    "name": "ipython",
    "version": 3
   },
   "file_extension": ".py",
   "mimetype": "text/x-python",
   "name": "python",
   "nbconvert_exporter": "python",
   "pygments_lexer": "ipython3",
   "version": "3.6.8"
  }
 },
 "nbformat": 4,
 "nbformat_minor": 2
}
